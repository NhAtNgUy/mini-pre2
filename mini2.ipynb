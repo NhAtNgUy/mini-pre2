{
 "cells": [
  {
   "cell_type": "code",
   "execution_count": 27,
   "id": "c94077f6-e781-4580-9635-ab316793071c",
   "metadata": {
    "tags": []
   },
   "outputs": [],
   "source": [
    "import pandas as pd \n",
    "import numpy as np\n",
    "import matplotlib.pyplot as plt "
   ]
  },
  {
   "cell_type": "code",
   "execution_count": 16,
   "id": "961efcf6-1de2-48fb-9865-a09e37f09b70",
   "metadata": {
    "tags": []
   },
   "outputs": [
    {
     "data": {
      "text/html": [
       "<div>\n",
       "<style scoped>\n",
       "    .dataframe tbody tr th:only-of-type {\n",
       "        vertical-align: middle;\n",
       "    }\n",
       "\n",
       "    .dataframe tbody tr th {\n",
       "        vertical-align: top;\n",
       "    }\n",
       "\n",
       "    .dataframe thead th {\n",
       "        text-align: right;\n",
       "    }\n",
       "</style>\n",
       "<table border=\"1\" class=\"dataframe\">\n",
       "  <thead>\n",
       "    <tr style=\"text-align: right;\">\n",
       "      <th></th>\n",
       "      <th>Date</th>\n",
       "      <th>Program</th>\n",
       "      <th>Eng_Certi</th>\n",
       "      <th>CEFR_level</th>\n",
       "      <th>SPK</th>\n",
       "      <th>LIS</th>\n",
       "      <th>REA</th>\n",
       "      <th>WRI</th>\n",
       "      <th>GPA_range</th>\n",
       "      <th>Eng_Compe</th>\n",
       "      <th>Affected_rate</th>\n",
       "      <th>4. CÃ¡c báº¡n Äang gáº·p pháº£i nhá»¯ng khÃ³ khÄn gÃ¬ trong viá»c tiáº¿p thu nhá»¯ng mÃ´n há»c ÄÆ°á»£c giáº£ng dáº¡y báº±ng tiáº¿ng Anh?</th>\n",
       "    </tr>\n",
       "  </thead>\n",
       "  <tbody>\n",
       "    <tr>\n",
       "      <th>0</th>\n",
       "      <td>02/10/2023 14:26:20</td>\n",
       "      <td>MAS</td>\n",
       "      <td>NO</td>\n",
       "      <td>NO</td>\n",
       "      <td>3</td>\n",
       "      <td>5</td>\n",
       "      <td>4</td>\n",
       "      <td>4</td>\n",
       "      <td>2,5 - 3</td>\n",
       "      <td>NO</td>\n",
       "      <td>YES</td>\n",
       "      <td>ÄÃ´i khi khÃ³ giao tiáº¿p vá»i giÃ¡o viÃªn</td>\n",
       "    </tr>\n",
       "    <tr>\n",
       "      <th>1</th>\n",
       "      <td>02/10/2023 14:38:39</td>\n",
       "      <td>MAS</td>\n",
       "      <td>IELTS</td>\n",
       "      <td>B2</td>\n",
       "      <td>7</td>\n",
       "      <td>7</td>\n",
       "      <td>7</td>\n",
       "      <td>6</td>\n",
       "      <td>3 - 3,5</td>\n",
       "      <td>YES</td>\n",
       "      <td>YES</td>\n",
       "      <td>Hiá»n táº¡i mÃ¬nh chÆ°a tháº¥y gáº·p báº¥t ká...</td>\n",
       "    </tr>\n",
       "    <tr>\n",
       "      <th>2</th>\n",
       "      <td>02/10/2023 14:40:23</td>\n",
       "      <td>MAS</td>\n",
       "      <td>APTIS</td>\n",
       "      <td>B2</td>\n",
       "      <td>7</td>\n",
       "      <td>6</td>\n",
       "      <td>5</td>\n",
       "      <td>5</td>\n",
       "      <td>3 - 3,5</td>\n",
       "      <td>NO</td>\n",
       "      <td>YES</td>\n",
       "      <td>MÃ¬nh khÃ´ng náº¯m báº¯t ÄÆ°á»£c toÃ n bá» b...</td>\n",
       "    </tr>\n",
       "    <tr>\n",
       "      <th>3</th>\n",
       "      <td>02/10/2023 14:40:43</td>\n",
       "      <td>HAT</td>\n",
       "      <td>VSTEP</td>\n",
       "      <td>B2</td>\n",
       "      <td>7</td>\n",
       "      <td>8</td>\n",
       "      <td>8</td>\n",
       "      <td>6</td>\n",
       "      <td>2,5 - 3</td>\n",
       "      <td>YES</td>\n",
       "      <td>YES</td>\n",
       "      <td>khÃ´ng cÃ³ song ngá»¯ Äá» so sÃ¡nh ná»i dun...</td>\n",
       "    </tr>\n",
       "    <tr>\n",
       "      <th>4</th>\n",
       "      <td>02/10/2023 14:49:47</td>\n",
       "      <td>HAT</td>\n",
       "      <td>APTIS</td>\n",
       "      <td>C2</td>\n",
       "      <td>9</td>\n",
       "      <td>9</td>\n",
       "      <td>8</td>\n",
       "      <td>7</td>\n",
       "      <td>3 - 3,5</td>\n",
       "      <td>YES</td>\n",
       "      <td>YES</td>\n",
       "      <td>Tá» nghÄ© lÃ  tÃ¹y mÃ´n há»c thÃ¬ trÃ¬nh Äá...</td>\n",
       "    </tr>\n",
       "  </tbody>\n",
       "</table>\n",
       "</div>"
      ],
      "text/plain": [
       "                  Date Program Eng_Certi CEFR_level  SPK  LIS  REA  WRI  \\\n",
       "0  02/10/2023 14:26:20     MAS        NO         NO    3    5    4    4   \n",
       "1  02/10/2023 14:38:39     MAS     IELTS         B2    7    7    7    6   \n",
       "2  02/10/2023 14:40:23     MAS     APTIS         B2    7    6    5    5   \n",
       "3  02/10/2023 14:40:43     HAT     VSTEP         B2    7    8    8    6   \n",
       "4  02/10/2023 14:49:47     HAT     APTIS         C2    9    9    8    7   \n",
       "\n",
       "  GPA_range Eng_Compe Affected_rate  \\\n",
       "0   2,5 - 3        NO           YES   \n",
       "1   3 - 3,5       YES           YES   \n",
       "2   3 - 3,5        NO           YES   \n",
       "3   2,5 - 3       YES           YES   \n",
       "4   3 - 3,5       YES           YES   \n",
       "\n",
       "  4. CÃ¡c báº¡n Äang gáº·p pháº£i nhá»¯ng khÃ³ khÄn gÃ¬ trong viá»c tiáº¿p thu nhá»¯ng mÃ´n há»c ÄÆ°á»£c giáº£ng dáº¡y báº±ng tiáº¿ng Anh?  \n",
       "0      ÄÃ´i khi khÃ³ giao tiáº¿p vá»i giÃ¡o viÃªn                                                                                              \n",
       "1  Hiá»n táº¡i mÃ¬nh chÆ°a tháº¥y gáº·p báº¥t ká...                                                                                             \n",
       "2  MÃ¬nh khÃ´ng náº¯m báº¯t ÄÆ°á»£c toÃ n bá» b...                                                                                             \n",
       "3  khÃ´ng cÃ³ song ngá»¯ Äá» so sÃ¡nh ná»i dun...                                                                                             \n",
       "4  Tá» nghÄ© lÃ  tÃ¹y mÃ´n há»c thÃ¬ trÃ¬nh Äá...                                                                                             "
      ]
     },
     "execution_count": 16,
     "metadata": {},
     "output_type": "execute_result"
    }
   ],
   "source": [
    "url = \"./sur5.csv\"\n",
    "df=pd.read_csv(url,encoding='unicode_escape')\n",
    "df.head()"
   ]
  },
  {
   "cell_type": "code",
   "execution_count": 62,
   "id": "4eede4bf-bc60-40a6-9bea-ee363ebfd2d1",
   "metadata": {},
   "outputs": [
    {
     "data": {
      "text/html": [
       "<div>\n",
       "<style scoped>\n",
       "    .dataframe tbody tr th:only-of-type {\n",
       "        vertical-align: middle;\n",
       "    }\n",
       "\n",
       "    .dataframe tbody tr th {\n",
       "        vertical-align: top;\n",
       "    }\n",
       "\n",
       "    .dataframe thead th {\n",
       "        text-align: right;\n",
       "    }\n",
       "</style>\n",
       "<table border=\"1\" class=\"dataframe\">\n",
       "  <thead>\n",
       "    <tr style=\"text-align: right;\">\n",
       "      <th></th>\n",
       "      <th>Program</th>\n",
       "      <th>Eng_Certi</th>\n",
       "      <th>CEFR_level</th>\n",
       "      <th>GPA_range</th>\n",
       "      <th>GPA_point</th>\n",
       "      <th>CEFR_point</th>\n",
       "      <th>OVR_Performance</th>\n",
       "      <th>Standard_of_student</th>\n",
       "    </tr>\n",
       "  </thead>\n",
       "  <tbody>\n",
       "    <tr>\n",
       "      <th>1</th>\n",
       "      <td>MAS</td>\n",
       "      <td>IELTS</td>\n",
       "      <td>B2</td>\n",
       "      <td>3 - 3,5</td>\n",
       "      <td>5</td>\n",
       "      <td>4</td>\n",
       "      <td>4.5</td>\n",
       "      <td>GOOD</td>\n",
       "    </tr>\n",
       "    <tr>\n",
       "      <th>2</th>\n",
       "      <td>MAS</td>\n",
       "      <td>APTIS</td>\n",
       "      <td>B2</td>\n",
       "      <td>3 - 3,5</td>\n",
       "      <td>5</td>\n",
       "      <td>4</td>\n",
       "      <td>4.5</td>\n",
       "      <td>GOOD</td>\n",
       "    </tr>\n",
       "    <tr>\n",
       "      <th>3</th>\n",
       "      <td>HAT</td>\n",
       "      <td>VSTEP</td>\n",
       "      <td>B2</td>\n",
       "      <td>2,5 - 3</td>\n",
       "      <td>4</td>\n",
       "      <td>4</td>\n",
       "      <td>4.0</td>\n",
       "      <td>NOT BAD</td>\n",
       "    </tr>\n",
       "    <tr>\n",
       "      <th>4</th>\n",
       "      <td>HAT</td>\n",
       "      <td>APTIS</td>\n",
       "      <td>C2</td>\n",
       "      <td>3 - 3,5</td>\n",
       "      <td>5</td>\n",
       "      <td>6</td>\n",
       "      <td>5.5</td>\n",
       "      <td>GOOD</td>\n",
       "    </tr>\n",
       "    <tr>\n",
       "      <th>5</th>\n",
       "      <td>MET</td>\n",
       "      <td>IELTS</td>\n",
       "      <td>B2</td>\n",
       "      <td>3 - 3,5</td>\n",
       "      <td>5</td>\n",
       "      <td>4</td>\n",
       "      <td>4.5</td>\n",
       "      <td>GOOD</td>\n",
       "    </tr>\n",
       "    <tr>\n",
       "      <th>6</th>\n",
       "      <td>MAC</td>\n",
       "      <td>VSTEP</td>\n",
       "      <td>B1</td>\n",
       "      <td>2,5 - 3</td>\n",
       "      <td>4</td>\n",
       "      <td>3</td>\n",
       "      <td>3.5</td>\n",
       "      <td>NOT BAD</td>\n",
       "    </tr>\n",
       "    <tr>\n",
       "      <th>7</th>\n",
       "      <td>MAS</td>\n",
       "      <td>IELTS</td>\n",
       "      <td>B2</td>\n",
       "      <td>2,5 - 3</td>\n",
       "      <td>4</td>\n",
       "      <td>4</td>\n",
       "      <td>4.0</td>\n",
       "      <td>NOT BAD</td>\n",
       "    </tr>\n",
       "    <tr>\n",
       "      <th>8</th>\n",
       "      <td>MAS</td>\n",
       "      <td>APTIS</td>\n",
       "      <td>B2</td>\n",
       "      <td>2,5 - 3</td>\n",
       "      <td>4</td>\n",
       "      <td>4</td>\n",
       "      <td>4.0</td>\n",
       "      <td>NOT BAD</td>\n",
       "    </tr>\n",
       "    <tr>\n",
       "      <th>9</th>\n",
       "      <td>MAS</td>\n",
       "      <td>APTIS</td>\n",
       "      <td>B2</td>\n",
       "      <td>3 - 3,5</td>\n",
       "      <td>5</td>\n",
       "      <td>4</td>\n",
       "      <td>4.5</td>\n",
       "      <td>GOOD</td>\n",
       "    </tr>\n",
       "    <tr>\n",
       "      <th>10</th>\n",
       "      <td>MET</td>\n",
       "      <td>IELTS</td>\n",
       "      <td>B2</td>\n",
       "      <td>2,5 - 3</td>\n",
       "      <td>4</td>\n",
       "      <td>4</td>\n",
       "      <td>4.0</td>\n",
       "      <td>NOT BAD</td>\n",
       "    </tr>\n",
       "    <tr>\n",
       "      <th>11</th>\n",
       "      <td>MET</td>\n",
       "      <td>IELTS</td>\n",
       "      <td>B2</td>\n",
       "      <td>2,5 - 3</td>\n",
       "      <td>4</td>\n",
       "      <td>4</td>\n",
       "      <td>4.0</td>\n",
       "      <td>NOT BAD</td>\n",
       "    </tr>\n",
       "    <tr>\n",
       "      <th>12</th>\n",
       "      <td>MET</td>\n",
       "      <td>APTIS</td>\n",
       "      <td>B2</td>\n",
       "      <td>2,5 - 3</td>\n",
       "      <td>4</td>\n",
       "      <td>4</td>\n",
       "      <td>4.0</td>\n",
       "      <td>NOT BAD</td>\n",
       "    </tr>\n",
       "    <tr>\n",
       "      <th>13</th>\n",
       "      <td>MET</td>\n",
       "      <td>APTIS</td>\n",
       "      <td>B2</td>\n",
       "      <td>2 - 2,5</td>\n",
       "      <td>3</td>\n",
       "      <td>4</td>\n",
       "      <td>3.5</td>\n",
       "      <td>NOT BAD</td>\n",
       "    </tr>\n",
       "    <tr>\n",
       "      <th>14</th>\n",
       "      <td>MET</td>\n",
       "      <td>APTIS</td>\n",
       "      <td>C1</td>\n",
       "      <td>3 - 3,5</td>\n",
       "      <td>5</td>\n",
       "      <td>5</td>\n",
       "      <td>5.0</td>\n",
       "      <td>GOOD</td>\n",
       "    </tr>\n",
       "    <tr>\n",
       "      <th>15</th>\n",
       "      <td>HAT</td>\n",
       "      <td>APTIS</td>\n",
       "      <td>B2</td>\n",
       "      <td>3 - 3,5</td>\n",
       "      <td>5</td>\n",
       "      <td>4</td>\n",
       "      <td>4.5</td>\n",
       "      <td>GOOD</td>\n",
       "    </tr>\n",
       "    <tr>\n",
       "      <th>16</th>\n",
       "      <td>MAC</td>\n",
       "      <td>APTIS</td>\n",
       "      <td>B2</td>\n",
       "      <td>2,5 - 3</td>\n",
       "      <td>4</td>\n",
       "      <td>4</td>\n",
       "      <td>4.0</td>\n",
       "      <td>NOT BAD</td>\n",
       "    </tr>\n",
       "    <tr>\n",
       "      <th>17</th>\n",
       "      <td>MET</td>\n",
       "      <td>APTIS</td>\n",
       "      <td>B2</td>\n",
       "      <td>2,5 - 3</td>\n",
       "      <td>4</td>\n",
       "      <td>4</td>\n",
       "      <td>4.0</td>\n",
       "      <td>NOT BAD</td>\n",
       "    </tr>\n",
       "    <tr>\n",
       "      <th>18</th>\n",
       "      <td>HAT</td>\n",
       "      <td>TOEIC</td>\n",
       "      <td>B2</td>\n",
       "      <td>2,5 - 3</td>\n",
       "      <td>4</td>\n",
       "      <td>4</td>\n",
       "      <td>4.0</td>\n",
       "      <td>NOT BAD</td>\n",
       "    </tr>\n",
       "    <tr>\n",
       "      <th>19</th>\n",
       "      <td>MET</td>\n",
       "      <td>VSTEP</td>\n",
       "      <td>B1</td>\n",
       "      <td>2,5 - 3</td>\n",
       "      <td>4</td>\n",
       "      <td>3</td>\n",
       "      <td>3.5</td>\n",
       "      <td>NOT BAD</td>\n",
       "    </tr>\n",
       "    <tr>\n",
       "      <th>20</th>\n",
       "      <td>MAC</td>\n",
       "      <td>IELTS</td>\n",
       "      <td>C1</td>\n",
       "      <td>3 - 3,5</td>\n",
       "      <td>5</td>\n",
       "      <td>5</td>\n",
       "      <td>5.0</td>\n",
       "      <td>GOOD</td>\n",
       "    </tr>\n",
       "    <tr>\n",
       "      <th>21</th>\n",
       "      <td>MAS</td>\n",
       "      <td>VSTEP</td>\n",
       "      <td>B2</td>\n",
       "      <td>2,5 - 3</td>\n",
       "      <td>4</td>\n",
       "      <td>4</td>\n",
       "      <td>4.0</td>\n",
       "      <td>NOT BAD</td>\n",
       "    </tr>\n",
       "    <tr>\n",
       "      <th>22</th>\n",
       "      <td>MAC</td>\n",
       "      <td>TOEIC</td>\n",
       "      <td>B2</td>\n",
       "      <td>3 - 3,5</td>\n",
       "      <td>5</td>\n",
       "      <td>4</td>\n",
       "      <td>4.5</td>\n",
       "      <td>GOOD</td>\n",
       "    </tr>\n",
       "    <tr>\n",
       "      <th>23</th>\n",
       "      <td>MAC</td>\n",
       "      <td>IELTS</td>\n",
       "      <td>B2</td>\n",
       "      <td>2,5 - 3</td>\n",
       "      <td>4</td>\n",
       "      <td>4</td>\n",
       "      <td>4.0</td>\n",
       "      <td>NOT BAD</td>\n",
       "    </tr>\n",
       "    <tr>\n",
       "      <th>24</th>\n",
       "      <td>MET</td>\n",
       "      <td>TOEIC</td>\n",
       "      <td>B1</td>\n",
       "      <td>3 - 3,5</td>\n",
       "      <td>5</td>\n",
       "      <td>3</td>\n",
       "      <td>4.0</td>\n",
       "      <td>GOOD</td>\n",
       "    </tr>\n",
       "    <tr>\n",
       "      <th>25</th>\n",
       "      <td>HAT</td>\n",
       "      <td>OTHERS</td>\n",
       "      <td>B1</td>\n",
       "      <td>3 - 3,5</td>\n",
       "      <td>5</td>\n",
       "      <td>3</td>\n",
       "      <td>4.0</td>\n",
       "      <td>GOOD</td>\n",
       "    </tr>\n",
       "    <tr>\n",
       "      <th>26</th>\n",
       "      <td>MAC</td>\n",
       "      <td>IELTS</td>\n",
       "      <td>B1</td>\n",
       "      <td>2,5 - 3</td>\n",
       "      <td>4</td>\n",
       "      <td>3</td>\n",
       "      <td>3.5</td>\n",
       "      <td>NOT BAD</td>\n",
       "    </tr>\n",
       "    <tr>\n",
       "      <th>27</th>\n",
       "      <td>MET</td>\n",
       "      <td>APTIS</td>\n",
       "      <td>B2</td>\n",
       "      <td>2 - 2,5</td>\n",
       "      <td>3</td>\n",
       "      <td>4</td>\n",
       "      <td>3.5</td>\n",
       "      <td>NOT BAD</td>\n",
       "    </tr>\n",
       "    <tr>\n",
       "      <th>29</th>\n",
       "      <td>HAT</td>\n",
       "      <td>VSTEP</td>\n",
       "      <td>B2</td>\n",
       "      <td>2,5 - 3</td>\n",
       "      <td>4</td>\n",
       "      <td>4</td>\n",
       "      <td>4.0</td>\n",
       "      <td>NOT BAD</td>\n",
       "    </tr>\n",
       "    <tr>\n",
       "      <th>31</th>\n",
       "      <td>MAC</td>\n",
       "      <td>APTIS</td>\n",
       "      <td>C1</td>\n",
       "      <td>2,5 - 3</td>\n",
       "      <td>4</td>\n",
       "      <td>5</td>\n",
       "      <td>4.5</td>\n",
       "      <td>NOT BAD</td>\n",
       "    </tr>\n",
       "    <tr>\n",
       "      <th>32</th>\n",
       "      <td>MAS</td>\n",
       "      <td>APTIS</td>\n",
       "      <td>B2</td>\n",
       "      <td>2 - 2,5</td>\n",
       "      <td>3</td>\n",
       "      <td>4</td>\n",
       "      <td>3.5</td>\n",
       "      <td>NOT BAD</td>\n",
       "    </tr>\n",
       "    <tr>\n",
       "      <th>33</th>\n",
       "      <td>HAT</td>\n",
       "      <td>OTHERS</td>\n",
       "      <td>B1</td>\n",
       "      <td>3 - 3,5</td>\n",
       "      <td>5</td>\n",
       "      <td>3</td>\n",
       "      <td>4.0</td>\n",
       "      <td>GOOD</td>\n",
       "    </tr>\n",
       "    <tr>\n",
       "      <th>34</th>\n",
       "      <td>MET</td>\n",
       "      <td>IELTS</td>\n",
       "      <td>B1</td>\n",
       "      <td>2,5 - 3</td>\n",
       "      <td>4</td>\n",
       "      <td>3</td>\n",
       "      <td>3.5</td>\n",
       "      <td>NOT BAD</td>\n",
       "    </tr>\n",
       "    <tr>\n",
       "      <th>35</th>\n",
       "      <td>MET</td>\n",
       "      <td>TOEIC</td>\n",
       "      <td>B1</td>\n",
       "      <td>3,5 - 4</td>\n",
       "      <td>6</td>\n",
       "      <td>3</td>\n",
       "      <td>4.5</td>\n",
       "      <td>GOOD</td>\n",
       "    </tr>\n",
       "    <tr>\n",
       "      <th>36</th>\n",
       "      <td>MAC</td>\n",
       "      <td>IELTS</td>\n",
       "      <td>A2</td>\n",
       "      <td>2,5 - 3</td>\n",
       "      <td>4</td>\n",
       "      <td>2</td>\n",
       "      <td>3.0</td>\n",
       "      <td>NOT BAD</td>\n",
       "    </tr>\n",
       "    <tr>\n",
       "      <th>37</th>\n",
       "      <td>MAC</td>\n",
       "      <td>TOEIC</td>\n",
       "      <td>B2</td>\n",
       "      <td>3 - 3,5</td>\n",
       "      <td>5</td>\n",
       "      <td>4</td>\n",
       "      <td>4.5</td>\n",
       "      <td>GOOD</td>\n",
       "    </tr>\n",
       "    <tr>\n",
       "      <th>38</th>\n",
       "      <td>HAT</td>\n",
       "      <td>VSTEP</td>\n",
       "      <td>B2</td>\n",
       "      <td>2 - 2,5</td>\n",
       "      <td>3</td>\n",
       "      <td>4</td>\n",
       "      <td>3.5</td>\n",
       "      <td>NOT BAD</td>\n",
       "    </tr>\n",
       "    <tr>\n",
       "      <th>39</th>\n",
       "      <td>MAC</td>\n",
       "      <td>TOEIC</td>\n",
       "      <td>B1</td>\n",
       "      <td>2,5 - 3</td>\n",
       "      <td>4</td>\n",
       "      <td>3</td>\n",
       "      <td>3.5</td>\n",
       "      <td>NOT BAD</td>\n",
       "    </tr>\n",
       "    <tr>\n",
       "      <th>40</th>\n",
       "      <td>MAS</td>\n",
       "      <td>APTIS</td>\n",
       "      <td>B2</td>\n",
       "      <td>3 - 3,5</td>\n",
       "      <td>5</td>\n",
       "      <td>4</td>\n",
       "      <td>4.5</td>\n",
       "      <td>GOOD</td>\n",
       "    </tr>\n",
       "    <tr>\n",
       "      <th>41</th>\n",
       "      <td>MET</td>\n",
       "      <td>IELTS</td>\n",
       "      <td>B2</td>\n",
       "      <td>2,5 - 3</td>\n",
       "      <td>4</td>\n",
       "      <td>4</td>\n",
       "      <td>4.0</td>\n",
       "      <td>NOT BAD</td>\n",
       "    </tr>\n",
       "    <tr>\n",
       "      <th>42</th>\n",
       "      <td>MET</td>\n",
       "      <td>IELTS</td>\n",
       "      <td>C1</td>\n",
       "      <td>3 - 3,5</td>\n",
       "      <td>5</td>\n",
       "      <td>5</td>\n",
       "      <td>5.0</td>\n",
       "      <td>GOOD</td>\n",
       "    </tr>\n",
       "    <tr>\n",
       "      <th>43</th>\n",
       "      <td>HAT</td>\n",
       "      <td>IELTS</td>\n",
       "      <td>C1</td>\n",
       "      <td>2,5 - 3</td>\n",
       "      <td>4</td>\n",
       "      <td>5</td>\n",
       "      <td>4.5</td>\n",
       "      <td>NOT BAD</td>\n",
       "    </tr>\n",
       "    <tr>\n",
       "      <th>44</th>\n",
       "      <td>MAC</td>\n",
       "      <td>APTIS</td>\n",
       "      <td>B2</td>\n",
       "      <td>2,5 - 3</td>\n",
       "      <td>4</td>\n",
       "      <td>4</td>\n",
       "      <td>4.0</td>\n",
       "      <td>NOT BAD</td>\n",
       "    </tr>\n",
       "    <tr>\n",
       "      <th>45</th>\n",
       "      <td>MET</td>\n",
       "      <td>IELTS</td>\n",
       "      <td>C1</td>\n",
       "      <td>3 - 3,5</td>\n",
       "      <td>5</td>\n",
       "      <td>5</td>\n",
       "      <td>5.0</td>\n",
       "      <td>GOOD</td>\n",
       "    </tr>\n",
       "    <tr>\n",
       "      <th>46</th>\n",
       "      <td>MAC</td>\n",
       "      <td>APTIS</td>\n",
       "      <td>B1</td>\n",
       "      <td>2,5 - 3</td>\n",
       "      <td>4</td>\n",
       "      <td>3</td>\n",
       "      <td>3.5</td>\n",
       "      <td>NOT BAD</td>\n",
       "    </tr>\n",
       "    <tr>\n",
       "      <th>47</th>\n",
       "      <td>HAT</td>\n",
       "      <td>VSTEP</td>\n",
       "      <td>B2</td>\n",
       "      <td>2,5 - 3</td>\n",
       "      <td>4</td>\n",
       "      <td>4</td>\n",
       "      <td>4.0</td>\n",
       "      <td>NOT BAD</td>\n",
       "    </tr>\n",
       "    <tr>\n",
       "      <th>48</th>\n",
       "      <td>MAC</td>\n",
       "      <td>TOEIC</td>\n",
       "      <td>C2</td>\n",
       "      <td>3 - 3,5</td>\n",
       "      <td>5</td>\n",
       "      <td>6</td>\n",
       "      <td>5.5</td>\n",
       "      <td>GOOD</td>\n",
       "    </tr>\n",
       "    <tr>\n",
       "      <th>49</th>\n",
       "      <td>MAS</td>\n",
       "      <td>TOEIC</td>\n",
       "      <td>B1</td>\n",
       "      <td>2,5 - 3</td>\n",
       "      <td>4</td>\n",
       "      <td>3</td>\n",
       "      <td>3.5</td>\n",
       "      <td>NOT BAD</td>\n",
       "    </tr>\n",
       "    <tr>\n",
       "      <th>50</th>\n",
       "      <td>MAS</td>\n",
       "      <td>APTIS</td>\n",
       "      <td>B2</td>\n",
       "      <td>2,5 - 3</td>\n",
       "      <td>4</td>\n",
       "      <td>4</td>\n",
       "      <td>4.0</td>\n",
       "      <td>NOT BAD</td>\n",
       "    </tr>\n",
       "    <tr>\n",
       "      <th>51</th>\n",
       "      <td>MET</td>\n",
       "      <td>IELTS</td>\n",
       "      <td>B2</td>\n",
       "      <td>3 - 3,5</td>\n",
       "      <td>5</td>\n",
       "      <td>4</td>\n",
       "      <td>4.5</td>\n",
       "      <td>GOOD</td>\n",
       "    </tr>\n",
       "    <tr>\n",
       "      <th>53</th>\n",
       "      <td>HAT</td>\n",
       "      <td>VSTEP</td>\n",
       "      <td>C1</td>\n",
       "      <td>3 - 3,5</td>\n",
       "      <td>5</td>\n",
       "      <td>5</td>\n",
       "      <td>5.0</td>\n",
       "      <td>GOOD</td>\n",
       "    </tr>\n",
       "    <tr>\n",
       "      <th>54</th>\n",
       "      <td>MAS</td>\n",
       "      <td>APTIS</td>\n",
       "      <td>B2</td>\n",
       "      <td>2,5 - 3</td>\n",
       "      <td>4</td>\n",
       "      <td>4</td>\n",
       "      <td>4.0</td>\n",
       "      <td>NOT BAD</td>\n",
       "    </tr>\n",
       "    <tr>\n",
       "      <th>55</th>\n",
       "      <td>MAC</td>\n",
       "      <td>IELTS</td>\n",
       "      <td>B1</td>\n",
       "      <td>2,5 - 3</td>\n",
       "      <td>4</td>\n",
       "      <td>3</td>\n",
       "      <td>3.5</td>\n",
       "      <td>NOT BAD</td>\n",
       "    </tr>\n",
       "    <tr>\n",
       "      <th>56</th>\n",
       "      <td>MAS</td>\n",
       "      <td>APTIS</td>\n",
       "      <td>B2</td>\n",
       "      <td>3 - 3,5</td>\n",
       "      <td>5</td>\n",
       "      <td>4</td>\n",
       "      <td>4.5</td>\n",
       "      <td>GOOD</td>\n",
       "    </tr>\n",
       "    <tr>\n",
       "      <th>57</th>\n",
       "      <td>HAT</td>\n",
       "      <td>APTIS</td>\n",
       "      <td>B2</td>\n",
       "      <td>2,5 - 3</td>\n",
       "      <td>4</td>\n",
       "      <td>4</td>\n",
       "      <td>4.0</td>\n",
       "      <td>NOT BAD</td>\n",
       "    </tr>\n",
       "    <tr>\n",
       "      <th>58</th>\n",
       "      <td>MET</td>\n",
       "      <td>APTIS</td>\n",
       "      <td>B2</td>\n",
       "      <td>2,5 - 3</td>\n",
       "      <td>4</td>\n",
       "      <td>4</td>\n",
       "      <td>4.0</td>\n",
       "      <td>NOT BAD</td>\n",
       "    </tr>\n",
       "    <tr>\n",
       "      <th>59</th>\n",
       "      <td>MAC</td>\n",
       "      <td>IELTS</td>\n",
       "      <td>B2</td>\n",
       "      <td>2,5 - 3</td>\n",
       "      <td>4</td>\n",
       "      <td>4</td>\n",
       "      <td>4.0</td>\n",
       "      <td>NOT BAD</td>\n",
       "    </tr>\n",
       "    <tr>\n",
       "      <th>60</th>\n",
       "      <td>MAC</td>\n",
       "      <td>VSTEP</td>\n",
       "      <td>B2</td>\n",
       "      <td>3 - 3,5</td>\n",
       "      <td>5</td>\n",
       "      <td>4</td>\n",
       "      <td>4.5</td>\n",
       "      <td>GOOD</td>\n",
       "    </tr>\n",
       "    <tr>\n",
       "      <th>62</th>\n",
       "      <td>HAT</td>\n",
       "      <td>IELTS</td>\n",
       "      <td>B1</td>\n",
       "      <td>3 - 3,5</td>\n",
       "      <td>5</td>\n",
       "      <td>3</td>\n",
       "      <td>4.0</td>\n",
       "      <td>GOOD</td>\n",
       "    </tr>\n",
       "    <tr>\n",
       "      <th>63</th>\n",
       "      <td>MET</td>\n",
       "      <td>OTHERS</td>\n",
       "      <td>B2</td>\n",
       "      <td>3 - 3,5</td>\n",
       "      <td>5</td>\n",
       "      <td>4</td>\n",
       "      <td>4.5</td>\n",
       "      <td>GOOD</td>\n",
       "    </tr>\n",
       "  </tbody>\n",
       "</table>\n",
       "</div>"
      ],
      "text/plain": [
       "   Program Eng_Certi CEFR_level GPA_range  GPA_point  CEFR_point  \\\n",
       "1      MAS     IELTS         B2   3 - 3,5          5           4   \n",
       "2      MAS     APTIS         B2   3 - 3,5          5           4   \n",
       "3      HAT     VSTEP         B2   2,5 - 3          4           4   \n",
       "4      HAT     APTIS         C2   3 - 3,5          5           6   \n",
       "5      MET     IELTS         B2   3 - 3,5          5           4   \n",
       "6      MAC     VSTEP         B1   2,5 - 3          4           3   \n",
       "7      MAS     IELTS         B2   2,5 - 3          4           4   \n",
       "8      MAS     APTIS         B2   2,5 - 3          4           4   \n",
       "9      MAS     APTIS         B2   3 - 3,5          5           4   \n",
       "10     MET     IELTS         B2   2,5 - 3          4           4   \n",
       "11     MET     IELTS         B2   2,5 - 3          4           4   \n",
       "12     MET     APTIS         B2   2,5 - 3          4           4   \n",
       "13     MET     APTIS         B2   2 - 2,5          3           4   \n",
       "14     MET     APTIS         C1   3 - 3,5          5           5   \n",
       "15     HAT     APTIS         B2   3 - 3,5          5           4   \n",
       "16     MAC     APTIS         B2   2,5 - 3          4           4   \n",
       "17     MET     APTIS         B2   2,5 - 3          4           4   \n",
       "18     HAT     TOEIC         B2   2,5 - 3          4           4   \n",
       "19     MET     VSTEP         B1   2,5 - 3          4           3   \n",
       "20     MAC     IELTS         C1   3 - 3,5          5           5   \n",
       "21     MAS     VSTEP         B2   2,5 - 3          4           4   \n",
       "22     MAC     TOEIC         B2   3 - 3,5          5           4   \n",
       "23     MAC     IELTS         B2   2,5 - 3          4           4   \n",
       "24     MET     TOEIC         B1   3 - 3,5          5           3   \n",
       "25     HAT    OTHERS         B1   3 - 3,5          5           3   \n",
       "26     MAC     IELTS         B1   2,5 - 3          4           3   \n",
       "27     MET     APTIS         B2   2 - 2,5          3           4   \n",
       "29     HAT     VSTEP         B2   2,5 - 3          4           4   \n",
       "31     MAC     APTIS         C1   2,5 - 3          4           5   \n",
       "32     MAS     APTIS         B2   2 - 2,5          3           4   \n",
       "33     HAT    OTHERS         B1   3 - 3,5          5           3   \n",
       "34     MET     IELTS         B1   2,5 - 3          4           3   \n",
       "35     MET     TOEIC         B1   3,5 - 4          6           3   \n",
       "36     MAC     IELTS         A2   2,5 - 3          4           2   \n",
       "37     MAC     TOEIC         B2   3 - 3,5          5           4   \n",
       "38     HAT     VSTEP         B2   2 - 2,5          3           4   \n",
       "39     MAC     TOEIC         B1   2,5 - 3          4           3   \n",
       "40     MAS     APTIS         B2   3 - 3,5          5           4   \n",
       "41     MET     IELTS         B2   2,5 - 3          4           4   \n",
       "42     MET     IELTS         C1   3 - 3,5          5           5   \n",
       "43     HAT     IELTS         C1   2,5 - 3          4           5   \n",
       "44     MAC     APTIS         B2   2,5 - 3          4           4   \n",
       "45     MET     IELTS         C1   3 - 3,5          5           5   \n",
       "46     MAC     APTIS         B1   2,5 - 3          4           3   \n",
       "47     HAT     VSTEP         B2   2,5 - 3          4           4   \n",
       "48     MAC     TOEIC         C2   3 - 3,5          5           6   \n",
       "49     MAS     TOEIC         B1   2,5 - 3          4           3   \n",
       "50     MAS     APTIS         B2   2,5 - 3          4           4   \n",
       "51     MET     IELTS         B2   3 - 3,5          5           4   \n",
       "53     HAT     VSTEP         C1   3 - 3,5          5           5   \n",
       "54     MAS     APTIS         B2   2,5 - 3          4           4   \n",
       "55     MAC     IELTS         B1   2,5 - 3          4           3   \n",
       "56     MAS     APTIS         B2   3 - 3,5          5           4   \n",
       "57     HAT     APTIS         B2   2,5 - 3          4           4   \n",
       "58     MET     APTIS         B2   2,5 - 3          4           4   \n",
       "59     MAC     IELTS         B2   2,5 - 3          4           4   \n",
       "60     MAC     VSTEP         B2   3 - 3,5          5           4   \n",
       "62     HAT     IELTS         B1   3 - 3,5          5           3   \n",
       "63     MET    OTHERS         B2   3 - 3,5          5           4   \n",
       "\n",
       "    OVR_Performance Standard_of_student  \n",
       "1               4.5                GOOD  \n",
       "2               4.5                GOOD  \n",
       "3               4.0             NOT BAD  \n",
       "4               5.5                GOOD  \n",
       "5               4.5                GOOD  \n",
       "6               3.5             NOT BAD  \n",
       "7               4.0             NOT BAD  \n",
       "8               4.0             NOT BAD  \n",
       "9               4.5                GOOD  \n",
       "10              4.0             NOT BAD  \n",
       "11              4.0             NOT BAD  \n",
       "12              4.0             NOT BAD  \n",
       "13              3.5             NOT BAD  \n",
       "14              5.0                GOOD  \n",
       "15              4.5                GOOD  \n",
       "16              4.0             NOT BAD  \n",
       "17              4.0             NOT BAD  \n",
       "18              4.0             NOT BAD  \n",
       "19              3.5             NOT BAD  \n",
       "20              5.0                GOOD  \n",
       "21              4.0             NOT BAD  \n",
       "22              4.5                GOOD  \n",
       "23              4.0             NOT BAD  \n",
       "24              4.0                GOOD  \n",
       "25              4.0                GOOD  \n",
       "26              3.5             NOT BAD  \n",
       "27              3.5             NOT BAD  \n",
       "29              4.0             NOT BAD  \n",
       "31              4.5             NOT BAD  \n",
       "32              3.5             NOT BAD  \n",
       "33              4.0                GOOD  \n",
       "34              3.5             NOT BAD  \n",
       "35              4.5                GOOD  \n",
       "36              3.0             NOT BAD  \n",
       "37              4.5                GOOD  \n",
       "38              3.5             NOT BAD  \n",
       "39              3.5             NOT BAD  \n",
       "40              4.5                GOOD  \n",
       "41              4.0             NOT BAD  \n",
       "42              5.0                GOOD  \n",
       "43              4.5             NOT BAD  \n",
       "44              4.0             NOT BAD  \n",
       "45              5.0                GOOD  \n",
       "46              3.5             NOT BAD  \n",
       "47              4.0             NOT BAD  \n",
       "48              5.5                GOOD  \n",
       "49              3.5             NOT BAD  \n",
       "50              4.0             NOT BAD  \n",
       "51              4.5                GOOD  \n",
       "53              5.0                GOOD  \n",
       "54              4.0             NOT BAD  \n",
       "55              3.5             NOT BAD  \n",
       "56              4.5                GOOD  \n",
       "57              4.0             NOT BAD  \n",
       "58              4.0             NOT BAD  \n",
       "59              4.0             NOT BAD  \n",
       "60              4.5                GOOD  \n",
       "62              4.0                GOOD  \n",
       "63              4.5                GOOD  "
      ]
     },
     "execution_count": 62,
     "metadata": {},
     "output_type": "execute_result"
    }
   ],
   "source": [
    "#Data Exploration\n",
    "df1=df.loc[:,[\"Program\",\"Eng_Certi\",\"CEFR_level\",\"GPA_range\"]]\n",
    "df1[\"GPA_point\"]=np.where(df1[\"GPA_range\"]==\"2 - 2,5\",3,np.where(df1[\"GPA_range\"]==\"2,5 - 3\",4,np.where(df1[\"GPA_range\"]==\"3 - 3,5\",5,6)))\n",
    "df1[\"CEFR_point\"]=np.where(df1[\"CEFR_level\"]==\"NO\",0,np.where(df1[\"CEFR_level\"]==\"A1\",1,np.where(df1[\"CEFR_level\"]==\"A2\",2,np.where(df1[\"CEFR_level\"]==\"B1\",3,np.where(df1[\"CEFR_level\"]==\"B2\",4,np.where(df1[\"CEFR_level\"]==\"C1\",5,6))))))\n",
    "df1[\"OVR_Performance\"]=(df1['GPA_point']+df1['CEFR_point'])/2 \n",
    "df1[\"Standard_of_student\"]=df1['GPA_point'].apply(lambda x : 'GOOD' if x>=5 else 'NOT BAD')\n",
    "\n",
    "df1=df1.drop(df1[df1['Eng_Certi']=='NO'].index)\n",
    "df1"
   ]
  },
  {
   "cell_type": "code",
   "execution_count": 9,
   "id": "5fa7d1a0",
   "metadata": {},
   "outputs": [
    {
     "data": {
      "image/png": "[encoded data removed]",
      "text/plain": [
       "<Figure size 1000x600 with 2 Axes>"
      ]
     },
     "metadata": {},
     "output_type": "display_data"
    }
   ],
   "source": [
    "fig = plt.figure(figsize=(10,6))\n",
    "ax0=fig.add_subplot(1,2,1)\n",
    "ax1=fig.add_subplot(1,2,2)\n",
    "c=df1[[\"Program\",\"CEFR_point\"]].groupby(\"Program\").mean().reset_index()\n",
    "c['CEFR_point']=c['CEFR_point'].astype(float)\n",
    "ax0.bar(x=c[\"Program\"],height=c[\"CEFR_point\"],color=('r','orange','y','g'))\n",
    "ax0.set_xlabel(\"Program\")\n",
    "ax0.set_ylabel(\"The Average of CEFR points\")\n",
    "index1=c[['Program']]\n",
    "for index1,value1 in enumerate(c['CEFR_point']) : \n",
    "    ax0.annotate(str(round(value1,2)),xy=(index1-0.2,value1-0.2),color='black')\n",
    "\n",
    "d=df1[['Program','GPA_point']].groupby('Program').mean().reset_index()\n",
    "d['GPA_point']=d['GPA_point'].astype(float)\n",
    "ax1.barh(y=d['Program'],width=d['GPA_point'],color=('red','orange','yellow','green'))\n",
    "ax1.set_xlabel(\"GPA_point\")\n",
    "ax1.set_ylabel(\"Program\")\n",
    "\n",
    "index=d[['Program']]\n",
    "for index,value in enumerate(d['GPA_point']) : \n",
    "    plt.annotate(str(round(value,2)),xy=(value-0.5,index),color='black')\n"
   ]
  },
  {
   "cell_type": "code",
   "execution_count": 6,
   "id": "d49a332d",
   "metadata": {},
   "outputs": [
    {
     "data": {
      "text/plain": [
       "(-1.6499999999998463,\n",
       " 1.6499999999999926,\n",
       " -1.649999998708312,\n",
       " 1.6499999797720508)"
      ]
     },
     "execution_count": 6,
     "metadata": {},
     "output_type": "execute_result"
    },
    {
     "data": {
      "image/png": "[encoded data removed]",
      "text/plain": [
       "<Figure size 640x480 with 1 Axes>"
      ]
     },
     "metadata": {},
     "output_type": "display_data"
    }
   ],
   "source": [
    "b=df1[['Program','OVR_Performance']].groupby('Program').mean()\n",
    "b1=np.ravel(b)\n",
    "\n",
    "wedgeprops={'linewidth':5}\n",
    "\n",
    "plt.pie(b1,autopct=\"%1.1f%%\",labels=None,shadow=True,pctdistance=1.2,wedgeprops=wedgeprops,radius=1.5) \n",
    "cr=plt.Circle(xy=(0,0),radius=1,facecolor='w')\n",
    "plt.gca().add_artist(cr)\n",
    "\n",
    "plt.legend(labels=b.index,loc=\"upper right\")\n",
    "plt.title(\"The AVG of the Performance rate per classes\")\n",
    "plt.axis(\"equal\")"
   ]
  },
  {
   "cell_type": "code",
   "execution_count": 61,
   "id": "d6fc5cce",
   "metadata": {},
   "outputs": [
    {
     "data": {
      "application/vnd.plotly.v1+json": {
       "config": {
        "plotlyServerURL": "https://plot.ly"
       },
       "data": [
        {
         "hovertemplate": "Program=HAT<br>CEFR_point=%{x}<br>GPA_point=%{y}<br>OVR_Performance=%{marker.size}<br>text=%{text}<extra></extra>",
         "legendgroup": "HAT",
         "marker": {
          "color": "aquamarine",
          "size": [
           4.230769230769231
          ],
          "sizemode": "area",
          "sizeref": 0.010576923076923078,
          "symbol": "circle"
         },
         "mode": "markers+text",
         "name": "HAT",
         "orientation": "v",
         "showlegend": true,
         "text": [
          4.23
         ],
         "textfont": {
          "color": "black"
         },
         "type": "scatter",
         "x": [
          4.076923076923077
         ],
         "xaxis": "x",
         "y": [
          4.384615384615385
         ],
         "yaxis": "y"
        },
        {
         "hovertemplate": "Program=MAC<br>CEFR_point=%{x}<br>GPA_point=%{y}<br>OVR_Performance=%{marker.size}<br>text=%{text}<extra></extra>",
         "legendgroup": "MAC",
         "marker": {
          "color": "orange",
          "size": [
           4.0625
          ],
          "sizemode": "area",
          "sizeref": 0.010576923076923078,
          "symbol": "circle"
         },
         "mode": "markers+text",
         "name": "MAC",
         "orientation": "v",
         "showlegend": true,
         "text": [
          4.06
         ],
         "textfont": {
          "color": "black"
         },
         "type": "scatter",
         "x": [
          3.8125
         ],
         "xaxis": "x",
         "y": [
          4.3125
         ],
         "yaxis": "y"
        },
        {
         "hovertemplate": "Program=MAS<br>CEFR_point=%{x}<br>GPA_point=%{y}<br>OVR_Performance=%{marker.size}<br>text=%{text}<extra></extra>",
         "legendgroup": "MAS",
         "marker": {
          "color": "yellow",
          "size": [
           4.125
          ],
          "sizemode": "area",
          "sizeref": 0.010576923076923078,
          "symbol": "circle"
         },
         "mode": "markers+text",
         "name": "MAS",
         "orientation": "v",
         "showlegend": true,
         "text": [
          4.12
         ],
         "textfont": {
          "color": "black"
         },
         "type": "scatter",
         "x": [
          3.9166666666666665
         ],
         "xaxis": "x",
         "y": [
          4.333333333333333
         ],
         "yaxis": "y"
        },
        {
         "hovertemplate": "Program=MET<br>CEFR_point=%{x}<br>GPA_point=%{y}<br>OVR_Performance=%{marker.size}<br>text=%{text}<extra></extra>",
         "legendgroup": "MET",
         "marker": {
          "color": "light green",
          "size": [
           4.166666666666667
          ],
          "sizemode": "area",
          "sizeref": 0.010576923076923078,
          "symbol": "circle"
         },
         "mode": "markers+text",
         "name": "MET",
         "orientation": "v",
         "showlegend": true,
         "text": [
          4.17
         ],
         "textfont": {
          "color": "black"
         },
         "type": "scatter",
         "x": [
          3.9444444444444446
         ],
         "xaxis": "x",
         "y": [
          4.388888888888889
         ],
         "yaxis": "y"
        }
       ],
       "layout": {
        "height": 600,
        "legend": {
         "itemsizing": "constant",
         "title": {
          "text": "Program"
         },
         "tracegroupgap": 0
        },
        "margin": {
         "t": 60
        },
        "template": {
         "data": {
          "bar": [
           {
            "error_x": {
             "color": "#2a3f5f"
            },
            "error_y": {
             "color": "#2a3f5f"
            },
            "marker": {
             "line": {
              "color": "#E5ECF6",
              "width": 0.5
             },
             "pattern": {
              "fillmode": "overlay",
              "size": 10,
              "solidity": 0.2
             }
            },
            "type": "bar"
           }
          ],
          "barpolar": [
           {
            "marker": {
             "line": {
              "color": "#E5ECF6",
              "width": 0.5
             },
             "pattern": {
              "fillmode": "overlay",
              "size": 10,
              "solidity": 0.2
             }
            },
            "type": "barpolar"
           }
          ],
          "carpet": [
           {
            "aaxis": {
             "endlinecolor": "#2a3f5f",
             "gridcolor": "white",
             "linecolor": "white",
             "minorgridcolor": "white",
             "startlinecolor": "#2a3f5f"
            },
            "baxis": {
             "endlinecolor": "#2a3f5f",
             "gridcolor": "white",
             "linecolor": "white",
             "minorgridcolor": "white",
             "startlinecolor": "#2a3f5f"
            },
            "type": "carpet"
           }
          ],
          "choropleth": [
           {
            "colorbar": {
             "outlinewidth": 0,
             "ticks": ""
            },
            "type": "choropleth"
           }
          ],
          "contour": [
           {
            "colorbar": {
             "outlinewidth": 0,
             "ticks": ""
            },
            "colorscale": [
             [
              0,
              "#0d0887"
             ],
             [
              0.1111111111111111,
              "#46039f"
             ],
             [
              0.2222222222222222,
              "#7201a8"
             ],
             [
              0.3333333333333333,
              "#9c179e"
             ],
             [
              0.4444444444444444,
              "#bd3786"
             ],
             [
              0.5555555555555556,
              "#d8576b"
             ],
             [
              0.6666666666666666,
              "#ed7953"
             ],
             [
              0.7777777777777778,
              "#fb9f3a"
             ],
             [
              0.8888888888888888,
              "#fdca26"
             ],
             [
              1,
              "#f0f921"
             ]
            ],
            "type": "contour"
           }
          ],
          "contourcarpet": [
           {
            "colorbar": {
             "outlinewidth": 0,
             "ticks": ""
            },
            "type": "contourcarpet"
           }
          ],
          "heatmap": [
           {
            "colorbar": {
             "outlinewidth": 0,
             "ticks": ""
            },
            "colorscale": [
             [
              0,
              "#0d0887"
             ],
             [
              0.1111111111111111,
              "#46039f"
             ],
             [
              0.2222222222222222,
              "#7201a8"
             ],
             [
              0.3333333333333333,
              "#9c179e"
             ],
             [
              0.4444444444444444,
              "#bd3786"
             ],
             [
              0.5555555555555556,
              "#d8576b"
             ],
             [
              0.6666666666666666,
              "#ed7953"
             ],
             [
              0.7777777777777778,
              "#fb9f3a"
             ],
             [
              0.8888888888888888,
              "#fdca26"
             ],
             [
              1,
              "#f0f921"
             ]
            ],
            "type": "heatmap"
           }
          ],
          "heatmapgl": [
           {
            "colorbar": {
             "outlinewidth": 0,
             "ticks": ""
            },
            "colorscale": [
             [
              0,
              "#0d0887"
             ],
             [
              0.1111111111111111,
              "#46039f"
             ],
             [
              0.2222222222222222,
              "#7201a8"
             ],
             [
              0.3333333333333333,
              "#9c179e"
             ],
             [
              0.4444444444444444,
              "#bd3786"
             ],
             [
              0.5555555555555556,
              "#d8576b"
             ],
             [
              0.6666666666666666,
              "#ed7953"
             ],
             [
              0.7777777777777778,
              "#fb9f3a"
             ],
             [
              0.8888888888888888,
              "#fdca26"
             ],
             [
              1,
              "#f0f921"
             ]
            ],
            "type": "heatmapgl"
           }
          ],
          "histogram": [
           {
            "marker": {
             "pattern": {
              "fillmode": "overlay",
              "size": 10,
              "solidity": 0.2
             }
            },
            "type": "histogram"
           }
          ],
          "histogram2d": [
           {
            "colorbar": {
             "outlinewidth": 0,
             "ticks": ""
            },
            "colorscale": [
             [
              0,
              "#0d0887"
             ],
             [
              0.1111111111111111,
              "#46039f"
             ],
             [
              0.2222222222222222,
              "#7201a8"
             ],
             [
              0.3333333333333333,
              "#9c179e"
             ],
             [
              0.4444444444444444,
              "#bd3786"
             ],
             [
              0.5555555555555556,
              "#d8576b"
             ],
             [
              0.6666666666666666,
              "#ed7953"
             ],
             [
              0.7777777777777778,
              "#fb9f3a"
             ],
             [
              0.8888888888888888,
              "#fdca26"
             ],
             [
              1,
              "#f0f921"
             ]
            ],
            "type": "histogram2d"
           }
          ],
          "histogram2dcontour": [
           {
            "colorbar": {
             "outlinewidth": 0,
             "ticks": ""
            },
            "colorscale": [
             [
              0,
              "#0d0887"
             ],
             [
              0.1111111111111111,
              "#46039f"
             ],
             [
              0.2222222222222222,
              "#7201a8"
             ],
             [
              0.3333333333333333,
              "#9c179e"
             ],
             [
              0.4444444444444444,
              "#bd3786"
             ],
             [
              0.5555555555555556,
              "#d8576b"
             ],
             [
              0.6666666666666666,
              "#ed7953"
             ],
             [
              0.7777777777777778,
              "#fb9f3a"
             ],
             [
              0.8888888888888888,
              "#fdca26"
             ],
             [
              1,
              "#f0f921"
             ]
            ],
            "type": "histogram2dcontour"
           }
          ],
          "mesh3d": [
           {
            "colorbar": {
             "outlinewidth": 0,
             "ticks": ""
            },
            "type": "mesh3d"
           }
          ],
          "parcoords": [
           {
            "line": {
             "colorbar": {
              "outlinewidth": 0,
              "ticks": ""
             }
            },
            "type": "parcoords"
           }
          ],
          "pie": [
           {
            "automargin": true,
            "type": "pie"
           }
          ],
          "scatter": [
           {
            "fillpattern": {
             "fillmode": "overlay",
             "size": 10,
             "solidity": 0.2
            },
            "type": "scatter"
           }
          ],
          "scatter3d": [
           {
            "line": {
             "colorbar": {
              "outlinewidth": 0,
              "ticks": ""
             }
            },
            "marker": {
             "colorbar": {
              "outlinewidth": 0,
              "ticks": ""
             }
            },
            "type": "scatter3d"
           }
          ],
          "scattercarpet": [
           {
            "marker": {
             "colorbar": {
              "outlinewidth": 0,
              "ticks": ""
             }
            },
            "type": "scattercarpet"
           }
          ],
          "scattergeo": [
           {
            "marker": {
             "colorbar": {
              "outlinewidth": 0,
              "ticks": ""
             }
            },
            "type": "scattergeo"
           }
          ],
          "scattergl": [
           {
            "marker": {
             "colorbar": {
              "outlinewidth": 0,
              "ticks": ""
             }
            },
            "type": "scattergl"
           }
          ],
          "scattermapbox": [
           {
            "marker": {
             "colorbar": {
              "outlinewidth": 0,
              "ticks": ""
             }
            },
            "type": "scattermapbox"
           }
          ],
          "scatterpolar": [
           {
            "marker": {
             "colorbar": {
              "outlinewidth": 0,
              "ticks": ""
             }
            },
            "type": "scatterpolar"
           }
          ],
          "scatterpolargl": [
           {
            "marker": {
             "colorbar": {
              "outlinewidth": 0,
              "ticks": ""
             }
            },
            "type": "scatterpolargl"
           }
          ],
          "scatterternary": [
           {
            "marker": {
             "colorbar": {
              "outlinewidth": 0,
              "ticks": ""
             }
            },
            "type": "scatterternary"
           }
          ],
          "surface": [
           {
            "colorbar": {
             "outlinewidth": 0,
             "ticks": ""
            },
            "colorscale": [
             [
              0,
              "#0d0887"
             ],
             [
              0.1111111111111111,
              "#46039f"
             ],
             [
              0.2222222222222222,
              "#7201a8"
             ],
             [
              0.3333333333333333,
              "#9c179e"
             ],
             [
              0.4444444444444444,
              "#bd3786"
             ],
             [
              0.5555555555555556,
              "#d8576b"
             ],
             [
              0.6666666666666666,
              "#ed7953"
             ],
             [
              0.7777777777777778,
              "#fb9f3a"
             ],
             [
              0.8888888888888888,
              "#fdca26"
             ],
             [
              1,
              "#f0f921"
             ]
            ],
            "type": "surface"
           }
          ],
          "table": [
           {
            "cells": {
             "fill": {
              "color": "#EBF0F8"
             },
             "line": {
              "color": "white"
             }
            },
            "header": {
             "fill": {
              "color": "#C8D4E3"
             },
             "line": {
              "color": "white"
             }
            },
            "type": "table"
           }
          ]
         },
         "layout": {
          "annotationdefaults": {
           "arrowcolor": "#2a3f5f",
           "arrowhead": 0,
           "arrowwidth": 1
          },
          "autotypenumbers": "strict",
          "coloraxis": {
           "colorbar": {
            "outlinewidth": 0,
            "ticks": ""
           }
          },
          "colorscale": {
           "diverging": [
            [
             0,
             "#8e0152"
            ],
            [
             0.1,
             "#c51b7d"
            ],
            [
             0.2,
             "#de77ae"
            ],
            [
             0.3,
             "#f1b6da"
            ],
            [
             0.4,
             "#fde0ef"
            ],
            [
             0.5,
             "#f7f7f7"
            ],
            [
             0.6,
             "#e6f5d0"
            ],
            [
             0.7,
             "#b8e186"
            ],
            [
             0.8,
             "#7fbc41"
            ],
            [
             0.9,
             "#4d9221"
            ],
            [
             1,
             "#276419"
            ]
           ],
           "sequential": [
            [
             0,
             "#0d0887"
            ],
            [
             0.1111111111111111,
             "#46039f"
            ],
            [
             0.2222222222222222,
             "#7201a8"
            ],
            [
             0.3333333333333333,
             "#9c179e"
            ],
            [
             0.4444444444444444,
             "#bd3786"
            ],
            [
             0.5555555555555556,
             "#d8576b"
            ],
            [
             0.6666666666666666,
             "#ed7953"
            ],
            [
             0.7777777777777778,
             "#fb9f3a"
            ],
            [
             0.8888888888888888,
             "#fdca26"
            ],
            [
             1,
             "#f0f921"
            ]
           ],
           "sequentialminus": [
            [
             0,
             "#0d0887"
            ],
            [
             0.1111111111111111,
             "#46039f"
            ],
            [
             0.2222222222222222,
             "#7201a8"
            ],
            [
             0.3333333333333333,
             "#9c179e"
            ],
            [
             0.4444444444444444,
             "#bd3786"
            ],
            [
             0.5555555555555556,
             "#d8576b"
            ],
            [
             0.6666666666666666,
             "#ed7953"
            ],
            [
             0.7777777777777778,
             "#fb9f3a"
            ],
            [
             0.8888888888888888,
             "#fdca26"
            ],
            [
             1,
             "#f0f921"
            ]
           ]
          },
          "colorway": [
           "#636efa",
           "#EF553B",
           "#00cc96",
           "#ab63fa",
           "#FFA15A",
           "#19d3f3",
           "#FF6692",
           "#B6E880",
           "#FF97FF",
           "#FECB52"
          ],
          "font": {
           "color": "#2a3f5f"
          },
          "geo": {
           "bgcolor": "white",
           "lakecolor": "white",
           "landcolor": "#E5ECF6",
           "showlakes": true,
           "showland": true,
           "subunitcolor": "white"
          },
          "hoverlabel": {
           "align": "left"
          },
          "hovermode": "closest",
          "mapbox": {
           "style": "light"
          },
          "paper_bgcolor": "white",
          "plot_bgcolor": "#E5ECF6",
          "polar": {
           "angularaxis": {
            "gridcolor": "white",
            "linecolor": "white",
            "ticks": ""
           },
           "bgcolor": "#E5ECF6",
           "radialaxis": {
            "gridcolor": "white",
            "linecolor": "white",
            "ticks": ""
           }
          },
          "scene": {
           "xaxis": {
            "backgroundcolor": "#E5ECF6",
            "gridcolor": "white",
            "gridwidth": 2,
            "linecolor": "white",
            "showbackground": true,
            "ticks": "",
            "zerolinecolor": "white"
           },
           "yaxis": {
            "backgroundcolor": "#E5ECF6",
            "gridcolor": "white",
            "gridwidth": 2,
            "linecolor": "white",
            "showbackground": true,
            "ticks": "",
            "zerolinecolor": "white"
           },
           "zaxis": {
            "backgroundcolor": "#E5ECF6",
            "gridcolor": "white",
            "gridwidth": 2,
            "linecolor": "white",
            "showbackground": true,
            "ticks": "",
            "zerolinecolor": "white"
           }
          },
          "shapedefaults": {
           "line": {
            "color": "#2a3f5f"
           }
          },
          "ternary": {
           "aaxis": {
            "gridcolor": "white",
            "linecolor": "white",
            "ticks": ""
           },
           "baxis": {
            "gridcolor": "white",
            "linecolor": "white",
            "ticks": ""
           },
           "bgcolor": "#E5ECF6",
           "caxis": {
            "gridcolor": "white",
            "linecolor": "white",
            "ticks": ""
           }
          },
          "title": {
           "x": 0.05
          },
          "xaxis": {
           "automargin": true,
           "gridcolor": "white",
           "linecolor": "white",
           "ticks": "",
           "title": {
            "standoff": 15
           },
           "zerolinecolor": "white",
           "zerolinewidth": 2
          },
          "yaxis": {
           "automargin": true,
           "gridcolor": "white",
           "linecolor": "white",
           "ticks": "",
           "title": {
            "standoff": 15
           },
           "zerolinecolor": "white",
           "zerolinewidth": 2
          }
         }
        },
        "width": 1000,
        "xaxis": {
         "anchor": "y",
         "domain": [
          0,
          1
         ],
         "title": {
          "text": "CEFR_point"
         }
        },
        "yaxis": {
         "anchor": "x",
         "domain": [
          0,
          1
         ],
         "title": {
          "text": "GPA_point"
         }
        }
       }
      },
      "text/html": [
       "<div>                            <div id=\"1f3656d3-efa9-4df6-a56a-2c7ae9ed4235\" class=\"plotly-graph-div\" style=\"height:600px; width:1000px;\"></div>            <script type=\"text/javascript\">                require([\"plotly\"], function(Plotly) {                    window.PLOTLYENV=window.PLOTLYENV || {};                                    if (document.getElementById(\"1f3656d3-efa9-4df6-a56a-2c7ae9ed4235\")) {                    Plotly.newPlot(                        \"1f3656d3-efa9-4df6-a56a-2c7ae9ed4235\",                        [{\"hovertemplate\":\"Program=HAT<br>CEFR_point=%{x}<br>GPA_point=%{y}<br>OVR_Performance=%{marker.size}<br>text=%{text}<extra></extra>\",\"legendgroup\":\"HAT\",\"marker\":{\"color\":\"aquamarine\",\"size\":[4.230769230769231],\"sizemode\":\"area\",\"sizeref\":0.010576923076923078,\"symbol\":\"circle\"},\"mode\":\"markers+text\",\"name\":\"HAT\",\"orientation\":\"v\",\"showlegend\":true,\"text\":[4.23],\"x\":[4.076923076923077],\"xaxis\":\"x\",\"y\":[4.384615384615385],\"yaxis\":\"y\",\"type\":\"scatter\",\"textfont\":{\"color\":\"black\"}},{\"hovertemplate\":\"Program=MAC<br>CEFR_point=%{x}<br>GPA_point=%{y}<br>OVR_Performance=%{marker.size}<br>text=%{text}<extra></extra>\",\"legendgroup\":\"MAC\",\"marker\":{\"color\":\"orange\",\"size\":[4.0625],\"sizemode\":\"area\",\"sizeref\":0.010576923076923078,\"symbol\":\"circle\"},\"mode\":\"markers+text\",\"name\":\"MAC\",\"orientation\":\"v\",\"showlegend\":true,\"text\":[4.06],\"x\":[3.8125],\"xaxis\":\"x\",\"y\":[4.3125],\"yaxis\":\"y\",\"type\":\"scatter\",\"textfont\":{\"color\":\"black\"}},{\"hovertemplate\":\"Program=MAS<br>CEFR_point=%{x}<br>GPA_point=%{y}<br>OVR_Performance=%{marker.size}<br>text=%{text}<extra></extra>\",\"legendgroup\":\"MAS\",\"marker\":{\"color\":\"yellow\",\"size\":[4.125],\"sizemode\":\"area\",\"sizeref\":0.010576923076923078,\"symbol\":\"circle\"},\"mode\":\"markers+text\",\"name\":\"MAS\",\"orientation\":\"v\",\"showlegend\":true,\"text\":[4.12],\"x\":[3.9166666666666665],\"xaxis\":\"x\",\"y\":[4.333333333333333],\"yaxis\":\"y\",\"type\":\"scatter\",\"textfont\":{\"color\":\"black\"}},{\"hovertemplate\":\"Program=MET<br>CEFR_point=%{x}<br>GPA_point=%{y}<br>OVR_Performance=%{marker.size}<br>text=%{text}<extra></extra>\",\"legendgroup\":\"MET\",\"marker\":{\"color\":\"light green\",\"size\":[4.166666666666667],\"sizemode\":\"area\",\"sizeref\":0.010576923076923078,\"symbol\":\"circle\"},\"mode\":\"markers+text\",\"name\":\"MET\",\"orientation\":\"v\",\"showlegend\":true,\"text\":[4.17],\"x\":[3.9444444444444446],\"xaxis\":\"x\",\"y\":[4.388888888888889],\"yaxis\":\"y\",\"type\":\"scatter\",\"textfont\":{\"color\":\"black\"}}],                        {\"template\":{\"data\":{\"histogram2dcontour\":[{\"type\":\"histogram2dcontour\",\"colorbar\":{\"outlinewidth\":0,\"ticks\":\"\"},\"colorscale\":[[0.0,\"#0d0887\"],[0.1111111111111111,\"#46039f\"],[0.2222222222222222,\"#7201a8\"],[0.3333333333333333,\"#9c179e\"],[0.4444444444444444,\"#bd3786\"],[0.5555555555555556,\"#d8576b\"],[0.6666666666666666,\"#ed7953\"],[0.7777777777777778,\"#fb9f3a\"],[0.8888888888888888,\"#fdca26\"],[1.0,\"#f0f921\"]]}],\"choropleth\":[{\"type\":\"choropleth\",\"colorbar\":{\"outlinewidth\":0,\"ticks\":\"\"}}],\"histogram2d\":[{\"type\":\"histogram2d\",\"colorbar\":{\"outlinewidth\":0,\"ticks\":\"\"},\"colorscale\":[[0.0,\"#0d0887\"],[0.1111111111111111,\"#46039f\"],[0.2222222222222222,\"#7201a8\"],[0.3333333333333333,\"#9c179e\"],[0.4444444444444444,\"#bd3786\"],[0.5555555555555556,\"#d8576b\"],[0.6666666666666666,\"#ed7953\"],[0.7777777777777778,\"#fb9f3a\"],[0.8888888888888888,\"#fdca26\"],[1.0,\"#f0f921\"]]}],\"heatmap\":[{\"type\":\"heatmap\",\"colorbar\":{\"outlinewidth\":0,\"ticks\":\"\"},\"colorscale\":[[0.0,\"#0d0887\"],[0.1111111111111111,\"#46039f\"],[0.2222222222222222,\"#7201a8\"],[0.3333333333333333,\"#9c179e\"],[0.4444444444444444,\"#bd3786\"],[0.5555555555555556,\"#d8576b\"],[0.6666666666666666,\"#ed7953\"],[0.7777777777777778,\"#fb9f3a\"],[0.8888888888888888,\"#fdca26\"],[1.0,\"#f0f921\"]]}],\"heatmapgl\":[{\"type\":\"heatmapgl\",\"colorbar\":{\"outlinewidth\":0,\"ticks\":\"\"},\"colorscale\":[[0.0,\"#0d0887\"],[0.1111111111111111,\"#46039f\"],[0.2222222222222222,\"#7201a8\"],[0.3333333333333333,\"#9c179e\"],[0.4444444444444444,\"#bd3786\"],[0.5555555555555556,\"#d8576b\"],[0.6666666666666666,\"#ed7953\"],[0.7777777777777778,\"#fb9f3a\"],[0.8888888888888888,\"#fdca26\"],[1.0,\"#f0f921\"]]}],\"contourcarpet\":[{\"type\":\"contourcarpet\",\"colorbar\":{\"outlinewidth\":0,\"ticks\":\"\"}}],\"contour\":[{\"type\":\"contour\",\"colorbar\":{\"outlinewidth\":0,\"ticks\":\"\"},\"colorscale\":[[0.0,\"#0d0887\"],[0.1111111111111111,\"#46039f\"],[0.2222222222222222,\"#7201a8\"],[0.3333333333333333,\"#9c179e\"],[0.4444444444444444,\"#bd3786\"],[0.5555555555555556,\"#d8576b\"],[0.6666666666666666,\"#ed7953\"],[0.7777777777777778,\"#fb9f3a\"],[0.8888888888888888,\"#fdca26\"],[1.0,\"#f0f921\"]]}],\"surface\":[{\"type\":\"surface\",\"colorbar\":{\"outlinewidth\":0,\"ticks\":\"\"},\"colorscale\":[[0.0,\"#0d0887\"],[0.1111111111111111,\"#46039f\"],[0.2222222222222222,\"#7201a8\"],[0.3333333333333333,\"#9c179e\"],[0.4444444444444444,\"#bd3786\"],[0.5555555555555556,\"#d8576b\"],[0.6666666666666666,\"#ed7953\"],[0.7777777777777778,\"#fb9f3a\"],[0.8888888888888888,\"#fdca26\"],[1.0,\"#f0f921\"]]}],\"mesh3d\":[{\"type\":\"mesh3d\",\"colorbar\":{\"outlinewidth\":0,\"ticks\":\"\"}}],\"scatter\":[{\"fillpattern\":{\"fillmode\":\"overlay\",\"size\":10,\"solidity\":0.2},\"type\":\"scatter\"}],\"parcoords\":[{\"type\":\"parcoords\",\"line\":{\"colorbar\":{\"outlinewidth\":0,\"ticks\":\"\"}}}],\"scatterpolargl\":[{\"type\":\"scatterpolargl\",\"marker\":{\"colorbar\":{\"outlinewidth\":0,\"ticks\":\"\"}}}],\"bar\":[{\"error_x\":{\"color\":\"#2a3f5f\"},\"error_y\":{\"color\":\"#2a3f5f\"},\"marker\":{\"line\":{\"color\":\"#E5ECF6\",\"width\":0.5},\"pattern\":{\"fillmode\":\"overlay\",\"size\":10,\"solidity\":0.2}},\"type\":\"bar\"}],\"scattergeo\":[{\"type\":\"scattergeo\",\"marker\":{\"colorbar\":{\"outlinewidth\":0,\"ticks\":\"\"}}}],\"scatterpolar\":[{\"type\":\"scatterpolar\",\"marker\":{\"colorbar\":{\"outlinewidth\":0,\"ticks\":\"\"}}}],\"histogram\":[{\"marker\":{\"pattern\":{\"fillmode\":\"overlay\",\"size\":10,\"solidity\":0.2}},\"type\":\"histogram\"}],\"scattergl\":[{\"type\":\"scattergl\",\"marker\":{\"colorbar\":{\"outlinewidth\":0,\"ticks\":\"\"}}}],\"scatter3d\":[{\"type\":\"scatter3d\",\"line\":{\"colorbar\":{\"outlinewidth\":0,\"ticks\":\"\"}},\"marker\":{\"colorbar\":{\"outlinewidth\":0,\"ticks\":\"\"}}}],\"scattermapbox\":[{\"type\":\"scattermapbox\",\"marker\":{\"colorbar\":{\"outlinewidth\":0,\"ticks\":\"\"}}}],\"scatterternary\":[{\"type\":\"scatterternary\",\"marker\":{\"colorbar\":{\"outlinewidth\":0,\"ticks\":\"\"}}}],\"scattercarpet\":[{\"type\":\"scattercarpet\",\"marker\":{\"colorbar\":{\"outlinewidth\":0,\"ticks\":\"\"}}}],\"carpet\":[{\"aaxis\":{\"endlinecolor\":\"#2a3f5f\",\"gridcolor\":\"white\",\"linecolor\":\"white\",\"minorgridcolor\":\"white\",\"startlinecolor\":\"#2a3f5f\"},\"baxis\":{\"endlinecolor\":\"#2a3f5f\",\"gridcolor\":\"white\",\"linecolor\":\"white\",\"minorgridcolor\":\"white\",\"startlinecolor\":\"#2a3f5f\"},\"type\":\"carpet\"}],\"table\":[{\"cells\":{\"fill\":{\"color\":\"#EBF0F8\"},\"line\":{\"color\":\"white\"}},\"header\":{\"fill\":{\"color\":\"#C8D4E3\"},\"line\":{\"color\":\"white\"}},\"type\":\"table\"}],\"barpolar\":[{\"marker\":{\"line\":{\"color\":\"#E5ECF6\",\"width\":0.5},\"pattern\":{\"fillmode\":\"overlay\",\"size\":10,\"solidity\":0.2}},\"type\":\"barpolar\"}],\"pie\":[{\"automargin\":true,\"type\":\"pie\"}]},\"layout\":{\"autotypenumbers\":\"strict\",\"colorway\":[\"#636efa\",\"#EF553B\",\"#00cc96\",\"#ab63fa\",\"#FFA15A\",\"#19d3f3\",\"#FF6692\",\"#B6E880\",\"#FF97FF\",\"#FECB52\"],\"font\":{\"color\":\"#2a3f5f\"},\"hovermode\":\"closest\",\"hoverlabel\":{\"align\":\"left\"},\"paper_bgcolor\":\"white\",\"plot_bgcolor\":\"#E5ECF6\",\"polar\":{\"bgcolor\":\"#E5ECF6\",\"angularaxis\":{\"gridcolor\":\"white\",\"linecolor\":\"white\",\"ticks\":\"\"},\"radialaxis\":{\"gridcolor\":\"white\",\"linecolor\":\"white\",\"ticks\":\"\"}},\"ternary\":{\"bgcolor\":\"#E5ECF6\",\"aaxis\":{\"gridcolor\":\"white\",\"linecolor\":\"white\",\"ticks\":\"\"},\"baxis\":{\"gridcolor\":\"white\",\"linecolor\":\"white\",\"ticks\":\"\"},\"caxis\":{\"gridcolor\":\"white\",\"linecolor\":\"white\",\"ticks\":\"\"}},\"coloraxis\":{\"colorbar\":{\"outlinewidth\":0,\"ticks\":\"\"}},\"colorscale\":{\"sequential\":[[0.0,\"#0d0887\"],[0.1111111111111111,\"#46039f\"],[0.2222222222222222,\"#7201a8\"],[0.3333333333333333,\"#9c179e\"],[0.4444444444444444,\"#bd3786\"],[0.5555555555555556,\"#d8576b\"],[0.6666666666666666,\"#ed7953\"],[0.7777777777777778,\"#fb9f3a\"],[0.8888888888888888,\"#fdca26\"],[1.0,\"#f0f921\"]],\"sequentialminus\":[[0.0,\"#0d0887\"],[0.1111111111111111,\"#46039f\"],[0.2222222222222222,\"#7201a8\"],[0.3333333333333333,\"#9c179e\"],[0.4444444444444444,\"#bd3786\"],[0.5555555555555556,\"#d8576b\"],[0.6666666666666666,\"#ed7953\"],[0.7777777777777778,\"#fb9f3a\"],[0.8888888888888888,\"#fdca26\"],[1.0,\"#f0f921\"]],\"diverging\":[[0,\"#8e0152\"],[0.1,\"#c51b7d\"],[0.2,\"#de77ae\"],[0.3,\"#f1b6da\"],[0.4,\"#fde0ef\"],[0.5,\"#f7f7f7\"],[0.6,\"#e6f5d0\"],[0.7,\"#b8e186\"],[0.8,\"#7fbc41\"],[0.9,\"#4d9221\"],[1,\"#276419\"]]},\"xaxis\":{\"gridcolor\":\"white\",\"linecolor\":\"white\",\"ticks\":\"\",\"title\":{\"standoff\":15},\"zerolinecolor\":\"white\",\"automargin\":true,\"zerolinewidth\":2},\"yaxis\":{\"gridcolor\":\"white\",\"linecolor\":\"white\",\"ticks\":\"\",\"title\":{\"standoff\":15},\"zerolinecolor\":\"white\",\"automargin\":true,\"zerolinewidth\":2},\"scene\":{\"xaxis\":{\"backgroundcolor\":\"#E5ECF6\",\"gridcolor\":\"white\",\"linecolor\":\"white\",\"showbackground\":true,\"ticks\":\"\",\"zerolinecolor\":\"white\",\"gridwidth\":2},\"yaxis\":{\"backgroundcolor\":\"#E5ECF6\",\"gridcolor\":\"white\",\"linecolor\":\"white\",\"showbackground\":true,\"ticks\":\"\",\"zerolinecolor\":\"white\",\"gridwidth\":2},\"zaxis\":{\"backgroundcolor\":\"#E5ECF6\",\"gridcolor\":\"white\",\"linecolor\":\"white\",\"showbackground\":true,\"ticks\":\"\",\"zerolinecolor\":\"white\",\"gridwidth\":2}},\"shapedefaults\":{\"line\":{\"color\":\"#2a3f5f\"}},\"annotationdefaults\":{\"arrowcolor\":\"#2a3f5f\",\"arrowhead\":0,\"arrowwidth\":1},\"geo\":{\"bgcolor\":\"white\",\"landcolor\":\"#E5ECF6\",\"subunitcolor\":\"white\",\"showland\":true,\"showlakes\":true,\"lakecolor\":\"white\"},\"title\":{\"x\":0.05},\"mapbox\":{\"style\":\"light\"}}},\"xaxis\":{\"anchor\":\"y\",\"domain\":[0.0,1.0],\"title\":{\"text\":\"CEFR_point\"}},\"yaxis\":{\"anchor\":\"x\",\"domain\":[0.0,1.0],\"title\":{\"text\":\"GPA_point\"}},\"legend\":{\"title\":{\"text\":\"Program\"},\"tracegroupgap\":0,\"itemsizing\":\"constant\"},\"margin\":{\"t\":60},\"height\":600,\"width\":1000},                        {\"responsive\": true}                    ).then(function(){\n",
       "                            \n",
       "var gd = document.getElementById('1f3656d3-efa9-4df6-a56a-2c7ae9ed4235');\n",
       "var x = new MutationObserver(function (mutations, observer) {{\n",
       "        var display = window.getComputedStyle(gd).display;\n",
       "        if (!display || display === 'none') {{\n",
       "            console.log([gd, 'removed!']);\n",
       "            Plotly.purge(gd);\n",
       "            observer.disconnect();\n",
       "        }}\n",
       "}});\n",
       "\n",
       "// Listen for the removal of the full notebook cells\n",
       "var notebookContainer = gd.closest('#notebook-container');\n",
       "if (notebookContainer) {{\n",
       "    x.observe(notebookContainer, {childList: true});\n",
       "}}\n",
       "\n",
       "// Listen for the clearing of the current output cell\n",
       "var outputEl = gd.closest('.output');\n",
       "if (outputEl) {{\n",
       "    x.observe(outputEl, {childList: true});\n",
       "}}\n",
       "\n",
       "                        })                };                });            </script>        </div>"
      ]
     },
     "metadata": {},
     "output_type": "display_data"
    }
   ],
   "source": [
    "import plotly \n",
    "import pandas as pd \n",
    "import plotly.express as px \n",
    "\n",
    "d=df1[['Program','GPA_point','CEFR_point','OVR_Performance']].groupby('Program').mean().reset_index()\n",
    "d['OVR_Performance']=d['OVR_Performance'].astype(float)\n",
    "fig = px.scatter(d, x=\"CEFR_point\",y=\"GPA_point\",color=\"Program\",color_discrete_map={'HAT':'aquamarine','MAC':'orange','MAS':'yellow','MET':'light green'},text=round(d['OVR_Performance'],2),width=1000,height=600,size='OVR_Performance')\n",
    "fig.update_traces(textfont_color='black')\n",
    "fig.show()"
   ]
  },
  {
   "cell_type": "code",
   "execution_count": 26,
   "id": "92b9563f",
   "metadata": {},
   "outputs": [
    {
     "name": "stdout",
     "output_type": "stream",
     "text": [
      "[0 0 0 0 0 0 1 0 0]\n",
      "[[9.99318303e-01 6.81697498e-04]\n",
      " [9.99318303e-01 6.81697498e-04]\n",
      " [9.48990338e-01 5.10096621e-02]\n",
      " [8.78033337e-01 1.21966663e-01]\n",
      " [9.20463417e-01 7.95365829e-02]\n",
      " [9.20463417e-01 7.95365829e-02]\n",
      " [8.37140042e-02 9.16285996e-01]\n",
      " [9.48990338e-01 5.10096621e-02]\n",
      " [8.78033337e-01 1.21966663e-01]]\n",
      "The accuracy of the Logistic Regression is:  100.0 %\n",
      "[[8 0]\n",
      " [0 1]]\n",
      "The value of AUC is 1.0\n"
     ]
    },
    {
     "data": {
      "image/png": "[encoded data removed]",
      "text/plain": [
       "<Figure size 640x480 with 1 Axes>"
      ]
     },
     "metadata": {},
     "output_type": "display_data"
    }
   ],
   "source": [
    "from sklearn.preprocessing import StandardScaler \n",
    "from sklearn.model_selection import train_test_split \n",
    "from sklearn.linear_model import LogisticRegression \n",
    "from sklearn.metrics import confusion_matrix \n",
    "from sklearn.metrics import roc_curve,auc \n",
    "\n",
    "X= df1[['GPA_point','CEFR_point']] \n",
    "y=np.where(df1['Standard_of_student']=='GOOD',1,0)\n",
    "X_train9,X_test9,y_train9,y_test9 = train_test_split (X,y, test_size=0.15, random_state=0) \n",
    "scaler=StandardScaler()\n",
    "\n",
    "X_train=scaler.fit_transform(X_train9)\n",
    "LR=LogisticRegression()\n",
    "model_LR=LR.fit(X_train,y_train9)\n",
    "model_LR\n",
    "\n",
    "X_test=scaler.transform(X_test9)\n",
    "yhat= model_LR.predict(X_test)\n",
    "yprob= model_LR.predict_proba(X_test)\n",
    "print(yhat)\n",
    "print(yprob)\n",
    "\n",
    "model_accuracy = model_LR.score(X_test,y_test9)\n",
    "print('The accuracy of the Logistic Regression is: ', model_accuracy*100,'%')\n",
    "\n",
    "cm=confusion_matrix(y_test9,yhat) \n",
    "print(cm)\n",
    "\n",
    "fpr,tpr,threshold = roc_curve(y_test9,yprob[:,1])\n",
    "roc_auc = auc(fpr, tpr)\n",
    "print(\"The value of AUC is\",roc_auc)\n",
    "\n",
    "plt.plot(fpr,tpr)\n",
    "plt.plot([0,1],[0,1],'--')\n",
    "plt.ylabel('TPR (True prositive rate)')\n",
    "plt.xlabel('FPR (False prositive rate)')\n",
    "plt.show()"
   ]
  },
  {
   "cell_type": "code",
   "execution_count": null,
   "id": "c9032bab",
   "metadata": {},
   "outputs": [],
   "source": []
  },
  {
   "cell_type": "code",
   "execution_count": null,
   "id": "0af2b874",
   "metadata": {},
   "outputs": [],
   "source": []
  }
 ],
 "metadata": {
  "kernelspec": {
   "display_name": "Python 3 (ipykernel)",
   "language": "python",
   "name": "python3"
  },
  "language_info": {
   "codemirror_mode": {
    "name": "ipython",
    "version": 3
   },
   "file_extension": ".py",
   "mimetype": "text/x-python",
   "name": "python",
   "nbconvert_exporter": "python",
   "pygments_lexer": "ipython3",
   "version": "3.11.4"
  }
 },
 "nbformat": 4,
 "nbformat_minor": 5
}
